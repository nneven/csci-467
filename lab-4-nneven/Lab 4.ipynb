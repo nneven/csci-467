{
 "cells": [
  {
   "cell_type": "code",
   "execution_count": 1,
   "id": "2af744eb",
   "metadata": {},
   "outputs": [],
   "source": [
    "import numpy as np\n",
    "import pandas as pd\n",
    "import seaborn as sns\n",
    "import matplotlib.pyplot as plt"
   ]
  },
  {
   "cell_type": "markdown",
   "id": "449d8664",
   "metadata": {},
   "source": [
    "# Question (1a)"
   ]
  },
  {
   "cell_type": "code",
   "execution_count": 2,
   "id": "b85dbf23",
   "metadata": {},
   "outputs": [
    {
     "data": {
      "text/html": [
       "<div>\n",
       "<style scoped>\n",
       "    .dataframe tbody tr th:only-of-type {\n",
       "        vertical-align: middle;\n",
       "    }\n",
       "\n",
       "    .dataframe tbody tr th {\n",
       "        vertical-align: top;\n",
       "    }\n",
       "\n",
       "    .dataframe thead th {\n",
       "        text-align: right;\n",
       "    }\n",
       "</style>\n",
       "<table border=\"1\" class=\"dataframe\">\n",
       "  <thead>\n",
       "    <tr style=\"text-align: right;\">\n",
       "      <th></th>\n",
       "      <th>COMMENT_ID</th>\n",
       "      <th>AUTHOR</th>\n",
       "      <th>DATE</th>\n",
       "      <th>CONTENT</th>\n",
       "      <th>CLASS</th>\n",
       "    </tr>\n",
       "  </thead>\n",
       "  <tbody>\n",
       "    <tr>\n",
       "      <th>0</th>\n",
       "      <td>z12rwfnyyrbsefonb232i5ehdxzkjzjs2</td>\n",
       "      <td>Lisa Wellas</td>\n",
       "      <td>NaN</td>\n",
       "      <td>+447935454150 lovely girl talk to me xxx﻿</td>\n",
       "      <td>1</td>\n",
       "    </tr>\n",
       "    <tr>\n",
       "      <th>1</th>\n",
       "      <td>z130wpnwwnyuetxcn23xf5k5ynmkdpjrj04</td>\n",
       "      <td>jason graham</td>\n",
       "      <td>2015-05-29T02:26:10.652000</td>\n",
       "      <td>I always end up coming back to this song&lt;br /&gt;﻿</td>\n",
       "      <td>0</td>\n",
       "    </tr>\n",
       "    <tr>\n",
       "      <th>2</th>\n",
       "      <td>z13vsfqirtavjvu0t22ezrgzyorwxhpf3</td>\n",
       "      <td>Ajkal Khan</td>\n",
       "      <td>NaN</td>\n",
       "      <td>my sister just received over 6,500 new &lt;a rel=...</td>\n",
       "      <td>1</td>\n",
       "    </tr>\n",
       "    <tr>\n",
       "      <th>3</th>\n",
       "      <td>z12wjzc4eprnvja4304cgbbizuved35wxcs</td>\n",
       "      <td>Dakota Taylor</td>\n",
       "      <td>2015-05-29T02:13:07.810000</td>\n",
       "      <td>Cool﻿</td>\n",
       "      <td>0</td>\n",
       "    </tr>\n",
       "    <tr>\n",
       "      <th>4</th>\n",
       "      <td>z13xjfr42z3uxdz2223gx5rrzs3dt5hna</td>\n",
       "      <td>Jihad Naser</td>\n",
       "      <td>NaN</td>\n",
       "      <td>Hello I&amp;#39;am from Palastine﻿</td>\n",
       "      <td>1</td>\n",
       "    </tr>\n",
       "  </tbody>\n",
       "</table>\n",
       "</div>"
      ],
      "text/plain": [
       "                            COMMENT_ID         AUTHOR  \\\n",
       "0    z12rwfnyyrbsefonb232i5ehdxzkjzjs2    Lisa Wellas   \n",
       "1  z130wpnwwnyuetxcn23xf5k5ynmkdpjrj04   jason graham   \n",
       "2    z13vsfqirtavjvu0t22ezrgzyorwxhpf3     Ajkal Khan   \n",
       "3  z12wjzc4eprnvja4304cgbbizuved35wxcs  Dakota Taylor   \n",
       "4    z13xjfr42z3uxdz2223gx5rrzs3dt5hna    Jihad Naser   \n",
       "\n",
       "                         DATE  \\\n",
       "0                         NaN   \n",
       "1  2015-05-29T02:26:10.652000   \n",
       "2                         NaN   \n",
       "3  2015-05-29T02:13:07.810000   \n",
       "4                         NaN   \n",
       "\n",
       "                                             CONTENT  CLASS  \n",
       "0          +447935454150 lovely girl talk to me xxx﻿      1  \n",
       "1    I always end up coming back to this song<br />﻿      0  \n",
       "2  my sister just received over 6,500 new <a rel=...      1  \n",
       "3                                              Cool﻿      0  \n",
       "4                     Hello I&#39;am from Palastine﻿      1  "
      ]
     },
     "execution_count": 2,
     "metadata": {},
     "output_type": "execute_result"
    }
   ],
   "source": [
    "df = pd.read_csv('./YouTube-Spam-Collection-v1/Youtube04-Eminem.csv')\n",
    "df.head()"
   ]
  },
  {
   "cell_type": "code",
   "execution_count": 3,
   "id": "8216586d",
   "metadata": {},
   "outputs": [
    {
     "name": "stdout",
     "output_type": "stream",
     "text": [
      "<class 'pandas.core.frame.DataFrame'>\n",
      "RangeIndex: 448 entries, 0 to 447\n",
      "Data columns (total 5 columns):\n",
      " #   Column      Non-Null Count  Dtype \n",
      "---  ------      --------------  ----- \n",
      " 0   COMMENT_ID  448 non-null    object\n",
      " 1   AUTHOR      448 non-null    object\n",
      " 2   DATE        203 non-null    object\n",
      " 3   CONTENT     448 non-null    object\n",
      " 4   CLASS       448 non-null    int64 \n",
      "dtypes: int64(1), object(4)\n",
      "memory usage: 17.6+ KB\n"
     ]
    }
   ],
   "source": [
    "df.info()"
   ]
  },
  {
   "cell_type": "markdown",
   "id": "545eaca1",
   "metadata": {},
   "source": [
    "# Question (1c)"
   ]
  },
  {
   "cell_type": "code",
   "execution_count": 4,
   "id": "fb3b5a24",
   "metadata": {},
   "outputs": [],
   "source": [
    "from sklearn.feature_extraction.text import TfidfVectorizer\n",
    "vectorizer = TfidfVectorizer()\n",
    "tfidf_matrix = vectorizer.fit_transform(df['CONTENT']).toarray()\n",
    "df = pd.concat([pd.DataFrame(tfidf_matrix), df['CLASS']], axis=1)\n",
    "# df.head()"
   ]
  },
  {
   "cell_type": "markdown",
   "id": "bfad6765",
   "metadata": {},
   "source": [
    "# Question (1b)"
   ]
  },
  {
   "cell_type": "code",
   "execution_count": 5,
   "id": "9c532750",
   "metadata": {},
   "outputs": [
    {
     "name": "stdout",
     "output_type": "stream",
     "text": [
      "<class 'pandas.core.frame.DataFrame'>\n",
      "Int64Index: 203 entries, 1 to 447\n",
      "Columns: 1603 entries, 0 to CLASS\n",
      "dtypes: float64(1602), int64(1)\n",
      "memory usage: 2.5 MB\n",
      "<class 'pandas.core.frame.DataFrame'>\n",
      "Int64Index: 245 entries, 0 to 445\n",
      "Columns: 1603 entries, 0 to CLASS\n",
      "dtypes: float64(1602), int64(1)\n",
      "memory usage: 3.0 MB\n"
     ]
    }
   ],
   "source": [
    "ham = df[df['CLASS'] == 0]\n",
    "spam = df[df['CLASS'] == 1]\n",
    "ham.info()\n",
    "spam.info()"
   ]
  },
  {
   "cell_type": "code",
   "execution_count": 6,
   "id": "622bbe24",
   "metadata": {},
   "outputs": [],
   "source": [
    "ham_80 = ham.iloc[:162, :]\n",
    "ham_20 = ham.iloc[162:, :]\n",
    "spam_80 = spam.iloc[:196, :]\n",
    "spam_20 = spam.iloc[196:, :]"
   ]
  },
  {
   "cell_type": "code",
   "execution_count": 7,
   "id": "b4eac0fc",
   "metadata": {},
   "outputs": [],
   "source": [
    "X_train = pd.concat([pd.DataFrame(ham_80.iloc[:, :1602]), pd.DataFrame(spam_80.iloc[:, :1602])])\n",
    "X_test = pd.concat([pd.DataFrame(ham_20.iloc[:, :1602]), pd.DataFrame(spam_20.iloc[:, :1602])])\n",
    "y_train = pd.concat([pd.DataFrame(ham_80.iloc[:, 1602]), pd.DataFrame(spam_80.iloc[:, 1602])])\n",
    "y_test = pd.concat([pd.DataFrame(ham_20.iloc[:, 1602]), pd.DataFrame(spam_20.iloc[:, 1602])])\n",
    "# print(X_train)\n",
    "# print(y_train)"
   ]
  },
  {
   "cell_type": "markdown",
   "id": "690cb6cc",
   "metadata": {},
   "source": [
    "# Question (1d) (ii)"
   ]
  },
  {
   "cell_type": "code",
   "execution_count": 8,
   "id": "0b4bd9e7",
   "metadata": {},
   "outputs": [],
   "source": [
    "from sklearn.linear_model import LogisticRegressionCV\n",
    "\n",
    "lamdas = np.logspace(-5, 5, num=11)\n",
    "clf = LogisticRegressionCV(Cs=lamdas, cv=5, penalty='l2').fit(X_train, y_train.to_numpy().ravel())\n",
    "\n",
    "y_train_pred = clf.predict(X_train)\n",
    "y_test_pred = clf.predict(X_test)\n",
    "\n",
    "y_train_score = clf.score(X_train,  y_train)\n",
    "y_test_score = clf.score(X_test,  y_test)\n",
    "\n",
    "y_train_prob = clf.predict_proba(X_train)\n",
    "y_test_prob = clf.predict_proba(X_test)"
   ]
  },
  {
   "cell_type": "markdown",
   "id": "cb6a93f1",
   "metadata": {},
   "source": [
    "# Question (1d) (i)"
   ]
  },
  {
   "cell_type": "code",
   "execution_count": 9,
   "id": "37c19cda",
   "metadata": {},
   "outputs": [
    {
     "name": "stdout",
     "output_type": "stream",
     "text": [
      "Lambdas:\n",
      "[1.e-05 1.e-04 1.e-03 1.e-02 1.e-01 1.e+00 1.e+01 1.e+02 1.e+03 1.e+04\n",
      " 1.e+05]\n",
      "\n",
      "Optimal Lambda: \n",
      "[100.]\n"
     ]
    }
   ],
   "source": [
    "print(\"Lambdas:\")\n",
    "print(clf.Cs_)\n",
    "print()\n",
    "print(\"Optimal Lambda: \")\n",
    "print(clf.C_)"
   ]
  },
  {
   "cell_type": "markdown",
   "id": "4b65da8d",
   "metadata": {},
   "source": [
    "# Question (1d) (ii) (continued)"
   ]
  },
  {
   "cell_type": "code",
   "execution_count": 10,
   "id": "bedfbd8b",
   "metadata": {},
   "outputs": [
    {
     "name": "stdout",
     "output_type": "stream",
     "text": [
      "Youtube Spam Filtering Training Data\n",
      "Confusion Matrix:\n",
      "[[162   0]\n",
      " [  0 196]]\n",
      "            ROC:  <sklearn.metrics._plot.roc_curve.RocCurveDisplay object at 0x000002218BE63C70>\n",
      "Precision Score:  1.0\n",
      "   Recall Score:  1.0\n",
      "       F1 Score:  1.0\n",
      "            AUC:  1.0\n"
     ]
    },
    {
     "data": {
      "image/png": "[encoded data removed]",
      "text/plain": [
       "<Figure size 432x288 with 1 Axes>"
      ]
     },
     "metadata": {
      "needs_background": "light"
     },
     "output_type": "display_data"
    }
   ],
   "source": [
    "from sklearn.metrics import confusion_matrix, roc_curve, plot_roc_curve, precision_score, recall_score, f1_score, auc, fbeta_score\n",
    "\n",
    "print('Youtube Spam Filtering Training Data')\n",
    "CM = confusion_matrix(y_train, y_train_pred)\n",
    "print('Confusion Matrix:')\n",
    "print(CM)\n",
    "fpr, tpr, thresholds = roc_curve(y_train, y_train_prob[:, 1])\n",
    "print('            ROC: ', plot_roc_curve(clf, X_train, y_train))\n",
    "print('Precision Score: ', precision_score(y_train, y_train_pred))\n",
    "print('   Recall Score: ', recall_score(y_train, y_train_pred))\n",
    "print('       F1 Score: ', f1_score(y_train, y_train_pred))\n",
    "print('            AUC: ', auc(fpr, tpr))"
   ]
  },
  {
   "cell_type": "markdown",
   "id": "9a67f794",
   "metadata": {},
   "source": [
    "# Question (1d) (iii)"
   ]
  },
  {
   "cell_type": "code",
   "execution_count": 11,
   "id": "15b6c344",
   "metadata": {},
   "outputs": [
    {
     "name": "stdout",
     "output_type": "stream",
     "text": [
      "Youtube Spam Filtering Test Data\n",
      "Confusion Matrix:\n",
      "[[40  1]\n",
      " [ 1 48]]\n",
      "            ROC:  <sklearn.metrics._plot.roc_curve.RocCurveDisplay object at 0x0000022185676CD0>\n",
      "Precision Score:  0.9795918367346939\n",
      "   Recall Score:  0.9795918367346939\n",
      "       F1 Score:  0.9795918367346939\n",
      "            AUC:  0.9950223992035839\n"
     ]
    },
    {
     "data": {
      "image/png": "[encoded data removed]",
      "text/plain": [
       "<Figure size 432x288 with 1 Axes>"
      ]
     },
     "metadata": {
      "needs_background": "light"
     },
     "output_type": "display_data"
    }
   ],
   "source": [
    "print('Youtube Spam Filtering Test Data')\n",
    "CM = confusion_matrix(y_test, y_test_pred)\n",
    "print('Confusion Matrix:')\n",
    "print(CM)\n",
    "fpr, tpr, thresholds = roc_curve(y_test, y_test_prob[:, 1])\n",
    "print('            ROC: ', plot_roc_curve(clf, X_test, y_test))\n",
    "print('Precision Score: ', precision_score(y_test, y_test_pred))\n",
    "print('   Recall Score: ', recall_score(y_test, y_test_pred))\n",
    "print('       F1 Score: ', f1_score(y_test, y_test_pred))\n",
    "print('            AUC: ', auc(fpr, tpr))"
   ]
  },
  {
   "cell_type": "code",
   "execution_count": 12,
   "id": "2e238aa3",
   "metadata": {},
   "outputs": [
    {
     "name": "stdout",
     "output_type": "stream",
     "text": [
      "F-beta Scores:\n",
      "\n",
      "Beta=0.1, Score = 0.9795918367346939\n",
      "Beta=0.5, Score = 0.979591836734694\n",
      "Beta=0.9, Score = 0.9795918367346939\n",
      "Beta=1,   Score = 0.9795918367346939\n",
      "Beta=5,   Score = 0.9795918367346939\n",
      "Beta=10,  Score = 0.9795918367346939\n"
     ]
    }
   ],
   "source": [
    "print(\"F-beta Scores:\\n\")\n",
    "print(\"Beta=0.1, Score =\", fbeta_score(y_test, y_test_pred, beta=0.1))\n",
    "print(\"Beta=0.5, Score =\", fbeta_score(y_test, y_test_pred, beta=0.5))\n",
    "print(\"Beta=0.9, Score =\", fbeta_score(y_test, y_test_pred, beta=0.9))\n",
    "print(\"Beta=1,   Score =\", fbeta_score(y_test, y_test_pred, beta=1))\n",
    "print(\"Beta=5,   Score =\", fbeta_score(y_test, y_test_pred, beta=5))\n",
    "print(\"Beta=10,  Score =\", fbeta_score(y_test, y_test_pred, beta=10))"
   ]
  },
  {
   "cell_type": "markdown",
   "id": "c9312fe3",
   "metadata": {},
   "source": [
    "Precision is as important as recall in this application. This is because I got the same F-beta score when modifying the beta value from 0.1 -> 10. Low Beta value translates to giving more weight to precision and less weight to recall in the calculation while high Beta values translates to giving more weight to recall and less weight to precision. Because I got the same score even when varying my Beta value. For l1 and Naive Bayes Classifier the F-Beta score varied when changing my beta value, meaning that in those models precision/recall was more important."
   ]
  },
  {
   "cell_type": "markdown",
   "id": "48e06495",
   "metadata": {},
   "source": [
    "# Question (1e) (ii)"
   ]
  },
  {
   "cell_type": "code",
   "execution_count": 13,
   "id": "e9507977",
   "metadata": {},
   "outputs": [],
   "source": [
    "from sklearn.linear_model import LogisticRegressionCV\n",
    "\n",
    "lamdas = np.logspace(-5, 5, num=11)\n",
    "\n",
    "# SOMETIMES FAILS TO CONVERGE ??? -> RESTART NOTEBOOK\n",
    "clf = LogisticRegressionCV(Cs=lamdas, cv=5, penalty='l1', solver='liblinear', max_iter=10000).fit(X_train, y_train.to_numpy().ravel())\n",
    "\n",
    "y_train_pred = clf.predict(X_train)\n",
    "y_test_pred = clf.predict(X_test)\n",
    "\n",
    "y_train_score = clf.score(X_train,  y_train)\n",
    "y_test_score = clf.score(X_test,  y_test)\n",
    "\n",
    "y_train_prob = clf.predict_proba(X_train)\n",
    "y_test_prob = clf.predict_proba(X_test)"
   ]
  },
  {
   "cell_type": "markdown",
   "id": "4e987799",
   "metadata": {},
   "source": [
    "# Question (1e) (i)"
   ]
  },
  {
   "cell_type": "code",
   "execution_count": 14,
   "id": "b4b35468",
   "metadata": {},
   "outputs": [
    {
     "name": "stdout",
     "output_type": "stream",
     "text": [
      "Lambdas:\n",
      "[1.e-05 1.e-04 1.e-03 1.e-02 1.e-01 1.e+00 1.e+01 1.e+02 1.e+03 1.e+04\n",
      " 1.e+05]\n",
      "\n",
      "Optimal Lambda: \n",
      "[1000.]\n"
     ]
    }
   ],
   "source": [
    "print(\"Lambdas:\")\n",
    "print(clf.Cs_)\n",
    "print()\n",
    "print(\"Optimal Lambda: \")\n",
    "print(clf.C_)"
   ]
  },
  {
   "cell_type": "markdown",
   "id": "da7b8079",
   "metadata": {},
   "source": [
    "# Question (1e) (ii) (continued)"
   ]
  },
  {
   "cell_type": "code",
   "execution_count": 15,
   "id": "c5299bf4",
   "metadata": {},
   "outputs": [
    {
     "name": "stdout",
     "output_type": "stream",
     "text": [
      "Youtube Spam Filtering Training Data\n",
      "Confusion Matrix:\n",
      "[[162   0]\n",
      " [  0 196]]\n",
      "            ROC:  <sklearn.metrics._plot.roc_curve.RocCurveDisplay object at 0x000002218C80E640>\n",
      "Precision Score:  1.0\n",
      "   Recall Score:  1.0\n",
      "       F1 Score:  1.0\n",
      "            AUC:  1.0\n"
     ]
    },
    {
     "data": {
      "image/png": "[encoded data removed]",
      "text/plain": [
       "<Figure size 432x288 with 1 Axes>"
      ]
     },
     "metadata": {
      "needs_background": "light"
     },
     "output_type": "display_data"
    }
   ],
   "source": [
    "print('Youtube Spam Filtering Training Data')\n",
    "CM = confusion_matrix(y_train, y_train_pred)\n",
    "print('Confusion Matrix:')\n",
    "print(CM)\n",
    "fpr, tpr, thresholds = roc_curve(y_train, y_train_prob[:, 1])\n",
    "print('            ROC: ', plot_roc_curve(clf, X_train, y_train))\n",
    "print('Precision Score: ', precision_score(y_train, y_train_pred))\n",
    "print('   Recall Score: ', recall_score(y_train, y_train_pred))\n",
    "print('       F1 Score: ', f1_score(y_train, y_train_pred))\n",
    "print('            AUC: ', auc(fpr, tpr))"
   ]
  },
  {
   "cell_type": "markdown",
   "id": "74de0110",
   "metadata": {},
   "source": [
    "# Question (1e) (iii)"
   ]
  },
  {
   "cell_type": "code",
   "execution_count": 16,
   "id": "f0eae4a7",
   "metadata": {},
   "outputs": [
    {
     "name": "stdout",
     "output_type": "stream",
     "text": [
      "Youtube Spam Filtering Test Data\n",
      "Confusion Matrix:\n",
      "[[41  0]\n",
      " [ 6 43]]\n",
      "            ROC:  <sklearn.metrics._plot.roc_curve.RocCurveDisplay object at 0x000002218C8E86A0>\n",
      "Precision Score:  1.0\n",
      "   Recall Score:  0.8775510204081632\n",
      "       F1 Score:  0.9347826086956522\n",
      "            AUC:  0.9975111996017919\n"
     ]
    },
    {
     "data": {
      "image/png": "[encoded data removed]",
      "text/plain": [
       "<Figure size 432x288 with 1 Axes>"
      ]
     },
     "metadata": {
      "needs_background": "light"
     },
     "output_type": "display_data"
    }
   ],
   "source": [
    "print('Youtube Spam Filtering Test Data')\n",
    "CM = confusion_matrix(y_test, y_test_pred)\n",
    "print('Confusion Matrix:')\n",
    "print(CM)\n",
    "fpr, tpr, thresholds = roc_curve(y_test, y_test_prob[:, 1])\n",
    "print('            ROC: ', plot_roc_curve(clf, X_test, y_test))\n",
    "print('Precision Score: ', precision_score(y_test, y_test_pred))\n",
    "print('   Recall Score: ', recall_score(y_test, y_test_pred))\n",
    "print('       F1 Score: ', f1_score(y_test, y_test_pred))\n",
    "print('            AUC: ', auc(fpr, tpr))"
   ]
  },
  {
   "cell_type": "markdown",
   "id": "12f495c2",
   "metadata": {},
   "source": [
    "# Question (1f)"
   ]
  },
  {
   "cell_type": "code",
   "execution_count": 17,
   "id": "8eea6434",
   "metadata": {},
   "outputs": [],
   "source": [
    "from sklearn.naive_bayes import GaussianNB\n",
    "gnb = GaussianNB().fit(X_train, y_train.to_numpy().ravel())\n",
    "\n",
    "y_train_pred = gnb.predict(X_train)\n",
    "y_test_pred = gnb.predict(X_test)\n",
    "\n",
    "y_train_score = gnb.score(X_train,  y_train)\n",
    "y_test_score = gnb.score(X_test,  y_test)\n",
    "\n",
    "y_train_prob = gnb.predict_proba(X_train)\n",
    "y_test_prob = gnb.predict_proba(X_test)"
   ]
  },
  {
   "cell_type": "code",
   "execution_count": 18,
   "id": "5de676e7",
   "metadata": {},
   "outputs": [
    {
     "name": "stdout",
     "output_type": "stream",
     "text": [
      "Youtube Spam Filtering Training Data\n",
      "Confusion Matrix:\n",
      "[[162   0]\n",
      " [  1 195]]\n",
      "            ROC:  <sklearn.metrics._plot.roc_curve.RocCurveDisplay object at 0x000002218C94D730>\n",
      "Precision Score:  1.0\n",
      "   Recall Score:  0.9948979591836735\n",
      "       F1 Score:  0.9974424552429668\n",
      "            AUC:  0.9974489795918368\n"
     ]
    },
    {
     "data": {
      "image/png": "[encoded data removed]",
      "text/plain": [
       "<Figure size 432x288 with 1 Axes>"
      ]
     },
     "metadata": {
      "needs_background": "light"
     },
     "output_type": "display_data"
    }
   ],
   "source": [
    "print('Youtube Spam Filtering Training Data')\n",
    "CM = confusion_matrix(y_train, y_train_pred)\n",
    "print('Confusion Matrix:')\n",
    "print(CM)\n",
    "fpr, tpr, thresholds = roc_curve(y_train, y_train_prob[:, 1], pos_label=1)\n",
    "print('            ROC: ', plot_roc_curve(clf, X_train, y_train))\n",
    "print('Precision Score: ', precision_score(y_train, y_train_pred, pos_label=1))\n",
    "print('   Recall Score: ', recall_score(y_train, y_train_pred, pos_label=1))\n",
    "print('       F1 Score: ', f1_score(y_train, y_train_pred, pos_label=1))\n",
    "print('            AUC: ', auc(fpr, tpr))"
   ]
  },
  {
   "cell_type": "code",
   "execution_count": 19,
   "id": "0f6b9f66",
   "metadata": {},
   "outputs": [
    {
     "name": "stdout",
     "output_type": "stream",
     "text": [
      "Youtube Spam Filtering Test Data\n",
      "Confusion Matrix:\n",
      "[[35  6]\n",
      " [ 1 48]]\n",
      "            ROC:  <sklearn.metrics._plot.roc_curve.RocCurveDisplay object at 0x000002218C99E460>\n",
      "Precision Score:  0.8888888888888888\n",
      "   Recall Score:  0.9795918367346939\n",
      "       F1 Score:  0.9320388349514563\n",
      "            AUC:  0.9166251866600298\n"
     ]
    },
    {
     "data": {
      "image/png": "[encoded data removed]",
      "text/plain": [
       "<Figure size 432x288 with 1 Axes>"
      ]
     },
     "metadata": {
      "needs_background": "light"
     },
     "output_type": "display_data"
    }
   ],
   "source": [
    "print('Youtube Spam Filtering Test Data')\n",
    "CM = confusion_matrix(y_test, y_test_pred)\n",
    "print('Confusion Matrix:')\n",
    "print(CM)\n",
    "fpr, tpr, thresholds = roc_curve(y_test, y_test_prob[:, 1])\n",
    "print('            ROC: ', plot_roc_curve(clf, X_test, y_test))\n",
    "print('Precision Score: ', precision_score(y_test, y_test_pred))\n",
    "print('   Recall Score: ', recall_score(y_test, y_test_pred))\n",
    "print('       F1 Score: ', f1_score(y_test, y_test_pred))\n",
    "print('            AUC: ', auc(fpr, tpr))"
   ]
  }
 ],
 "metadata": {
  "kernelspec": {
   "display_name": "Python 3",
   "language": "python",
   "name": "python3"
  },
  "language_info": {
   "codemirror_mode": {
    "name": "ipython",
    "version": 3
   },
   "file_extension": ".py",
   "mimetype": "text/x-python",
   "name": "python",
   "nbconvert_exporter": "python",
   "pygments_lexer": "ipython3",
   "version": "3.8.8"
  }
 },
 "nbformat": 4,
 "nbformat_minor": 5
}
